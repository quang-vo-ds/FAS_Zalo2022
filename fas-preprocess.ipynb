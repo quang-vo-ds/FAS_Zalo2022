{
 "cells": [
  {
   "cell_type": "markdown",
   "id": "6209ecc6",
   "metadata": {
    "papermill": {
     "duration": 0.002319,
     "end_time": "2023-10-11T03:42:02.143085",
     "exception": false,
     "start_time": "2023-10-11T03:42:02.140766",
     "status": "completed"
    },
    "tags": []
   },
   "source": [
    "## Setup"
   ]
  },
  {
   "cell_type": "code",
   "execution_count": 1,
   "id": "86087f54",
   "metadata": {
    "execution": {
     "iopub.execute_input": "2023-10-11T03:42:02.149705Z",
     "iopub.status.busy": "2023-10-11T03:42:02.149425Z",
     "iopub.status.idle": "2023-10-11T03:42:02.642361Z",
     "shell.execute_reply": "2023-10-11T03:42:02.641493Z"
    },
    "papermill": {
     "duration": 0.49941,
     "end_time": "2023-10-11T03:42:02.644324",
     "exception": false,
     "start_time": "2023-10-11T03:42:02.144914",
     "status": "completed"
    },
    "tags": []
   },
   "outputs": [],
   "source": [
    "import os\n",
    "import pickle\n",
    "import gc\n",
    "import json\n",
    "import glob\n",
    "import time\n",
    "import threading\n",
    "import queue\n",
    "import itertools\n",
    "import pandas as pd\n",
    "import numpy as np\n",
    "import math\n",
    "from tqdm import tqdm\n",
    "\n",
    "# Image library\n",
    "import cv2\n",
    "import matplotlib.pyplot as plt\n",
    "from PIL import Image"
   ]
  },
  {
   "cell_type": "code",
   "execution_count": 2,
   "id": "abe6d9b7",
   "metadata": {
    "execution": {
     "iopub.execute_input": "2023-10-11T03:42:02.649517Z",
     "iopub.status.busy": "2023-10-11T03:42:02.648801Z",
     "iopub.status.idle": "2023-10-11T03:42:02.652556Z",
     "shell.execute_reply": "2023-10-11T03:42:02.652038Z"
    },
    "papermill": {
     "duration": 0.007668,
     "end_time": "2023-10-11T03:42:02.653916",
     "exception": false,
     "start_time": "2023-10-11T03:42:02.646248",
     "status": "completed"
    },
    "tags": []
   },
   "outputs": [],
   "source": [
    "data_dir = '/kaggle/input/liveness-detection-zalo-2022/train/train'\n",
    "label_dir = os.path.join(data_dir, \"label.csv\")\n",
    "video_dir = os.path.join(data_dir, \"videos\")"
   ]
  },
  {
   "cell_type": "code",
   "execution_count": 3,
   "id": "e2cd4886",
   "metadata": {
    "execution": {
     "iopub.execute_input": "2023-10-11T03:42:02.658602Z",
     "iopub.status.busy": "2023-10-11T03:42:02.658144Z",
     "iopub.status.idle": "2023-10-11T03:42:02.661669Z",
     "shell.execute_reply": "2023-10-11T03:42:02.661219Z"
    },
    "papermill": {
     "duration": 0.007189,
     "end_time": "2023-10-11T03:42:02.662923",
     "exception": false,
     "start_time": "2023-10-11T03:42:02.655734",
     "status": "completed"
    },
    "tags": []
   },
   "outputs": [],
   "source": [
    "CFG = {\n",
    "    'show_examples': True,\n",
    "    'vectorize': False,\n",
    "    'batch_size': 60,\n",
    "    'n_frames': 15,\n",
    "    'face_shape': (160,160),\n",
    "    'create_dataset_new': True,\n",
    "}"
   ]
  },
  {
   "cell_type": "code",
   "execution_count": 4,
   "id": "82ef6abe",
   "metadata": {
    "execution": {
     "iopub.execute_input": "2023-10-11T03:42:02.667704Z",
     "iopub.status.busy": "2023-10-11T03:42:02.666945Z",
     "iopub.status.idle": "2023-10-11T03:42:02.701387Z",
     "shell.execute_reply": "2023-10-11T03:42:02.699774Z"
    },
    "papermill": {
     "duration": 0.03823,
     "end_time": "2023-10-11T03:42:02.702847",
     "exception": false,
     "start_time": "2023-10-11T03:42:02.664617",
     "status": "completed"
    },
    "tags": []
   },
   "outputs": [
    {
     "name": "stdout",
     "output_type": "stream",
     "text": [
      "   fname  liveness_score\n",
      "0  1.mp4               0\n",
      "1  2.mp4               1\n",
      "2  3.mp4               1\n",
      "3  5.mp4               0\n",
      "4  7.mp4               1\n"
     ]
    }
   ],
   "source": [
    "df = pd.read_csv(label_dir)\n",
    "if CFG['show_examples']:\n",
    "    print(df.head())"
   ]
  },
  {
   "cell_type": "markdown",
   "id": "4cea40c3",
   "metadata": {
    "papermill": {
     "duration": 0.001666,
     "end_time": "2023-10-11T03:42:02.706465",
     "exception": false,
     "start_time": "2023-10-11T03:42:02.704799",
     "status": "completed"
    },
    "tags": []
   },
   "source": [
    "## Cut Random Frames"
   ]
  },
  {
   "cell_type": "code",
   "execution_count": 5,
   "id": "45c06da5",
   "metadata": {
    "execution": {
     "iopub.execute_input": "2023-10-11T03:42:02.711503Z",
     "iopub.status.busy": "2023-10-11T03:42:02.711203Z",
     "iopub.status.idle": "2023-10-11T03:42:02.718762Z",
     "shell.execute_reply": "2023-10-11T03:42:02.717881Z"
    },
    "papermill": {
     "duration": 0.012139,
     "end_time": "2023-10-11T03:42:02.720370",
     "exception": false,
     "start_time": "2023-10-11T03:42:02.708231",
     "status": "completed"
    },
    "tags": []
   },
   "outputs": [],
   "source": [
    "def extract_frames(df, img_path, dataset_path):\n",
    "    v_ids = df.index.tolist()\n",
    "    output_metadata = {'fname': [], 'img_name': [], 'liveness_score':[]}\n",
    "\n",
    "    for _, idx in tqdm(enumerate(v_ids), total=len(v_ids)):\n",
    "        try:\n",
    "            ## Cut video frames\n",
    "            v_dir = os.path.join(video_dir, df.iloc[idx]['fname'])\n",
    "            v_cap = cv2.VideoCapture(v_dir)\n",
    "            success = v_cap.grab()        \n",
    "            v_len = int(v_cap.get(cv2.CAP_PROP_FRAME_COUNT))\n",
    "            fnos = list(range(0, v_len, CFG['n_frames']))\n",
    "\n",
    "            # set initial frame \n",
    "            v_cap.set(cv2.CAP_PROP_POS_FRAMES, fnos[0])\n",
    "\n",
    "            pos, count = 0, fnos[0]\n",
    "            while success:\n",
    "                if count == fnos[pos]:\n",
    "                    success, frame = v_cap.retrieve()\n",
    "                    if not success:               \n",
    "                        break\n",
    "                    \n",
    "                    img_name = f\"{df.iloc[idx]['fname'].split('.')[0]}_{count}.jpg\"\n",
    "                    cv2.imwrite(os.path.join(img_path, img_name), frame)\n",
    "                    \n",
    "                    # Add metadata\n",
    "                    output_metadata['fname'].append(df.iloc[idx]['fname'])\n",
    "                    output_metadata['img_name'].append(img_name)\n",
    "                    output_metadata['liveness_score'].append(df.iloc[idx]['liveness_score'])\n",
    "\n",
    "                    pos += 1\n",
    "                    if pos >= len(fnos):\n",
    "                        break\n",
    "                \n",
    "                count += 1\n",
    "                success = v_cap.grab()\n",
    "            \n",
    "            v_cap.release()\n",
    "\n",
    "\n",
    "        except KeyboardInterrupt:\n",
    "            print('\\nStopped.')\n",
    "            break\n",
    "\n",
    "        except Exception as e:\n",
    "            print(e)\n",
    "\n",
    "    output_metadata = pd.DataFrame(output_metadata)\n",
    "    output_metadata = output_metadata.dropna()\n",
    "    output_metadata.to_csv(os.path.join(dataset_path, \"metadata.csv\"), index=False)"
   ]
  },
  {
   "cell_type": "markdown",
   "id": "8e0de0f6",
   "metadata": {
    "papermill": {
     "duration": 0.001511,
     "end_time": "2023-10-11T03:42:02.723889",
     "exception": false,
     "start_time": "2023-10-11T03:42:02.722378",
     "status": "completed"
    },
    "tags": []
   },
   "source": [
    "## Main"
   ]
  },
  {
   "cell_type": "code",
   "execution_count": 6,
   "id": "6af8e462",
   "metadata": {
    "execution": {
     "iopub.execute_input": "2023-10-11T03:42:02.728814Z",
     "iopub.status.busy": "2023-10-11T03:42:02.728525Z",
     "iopub.status.idle": "2023-10-11T03:54:57.734772Z",
     "shell.execute_reply": "2023-10-11T03:54:57.732724Z"
    },
    "papermill": {
     "duration": 775.011795,
     "end_time": "2023-10-11T03:54:57.737446",
     "exception": false,
     "start_time": "2023-10-11T03:42:02.725651",
     "status": "completed"
    },
    "tags": []
   },
   "outputs": [
    {
     "name": "stderr",
     "output_type": "stream",
     "text": [
      "100%|██████████| 1168/1168 [11:13<00:00,  1.73it/s]\n"
     ]
    },
    {
     "name": "stdout",
     "output_type": "stream",
     "text": [
      "Starting upload for file images.zip\r\n",
      "100%|███████████████████████████████████████| 2.56G/2.56G [00:12<00:00, 212MB/s]\r\n",
      "Upload successful: images.zip (3GB)\r\n",
      "Starting upload for file metadata.csv\r\n",
      "100%|████████████████████████████████████████| 264k/264k [00:00<00:00, 1.47MB/s]\r\n",
      "Upload successful: metadata.csv (264KB)\r\n",
      "Dataset version is being created. Please check progress at https://www.kaggle.com/vovanquangnbk/fas-zalo-2022-frames\r\n"
     ]
    }
   ],
   "source": [
    "if __name__ == '__main__':\n",
    "    \n",
    "    ## Prepare Kaggle dataset for uploading\n",
    "    from kaggle_secrets import UserSecretsClient\n",
    "    user_secrets = UserSecretsClient()\n",
    "    secret_value_0 = user_secrets.get_secret(\"KAGGLE_KEY\")\n",
    "\n",
    "    os.makedirs('/kaggle/dataset/', exist_ok=True)\n",
    "    os.makedirs('/kaggle/dataset/images', exist_ok=True)\n",
    "    img_path = '/kaggle/dataset/images'\n",
    "    dataset_path = '/kaggle/dataset'\n",
    "    \n",
    "    ## Kaggle API token\n",
    "    os.makedirs('/root/.kaggle/', exist_ok=True)\n",
    "    api_token = {\"username\":\"vovanquangnbk\",\"key\":\"507e3751d7cd3d60453ea1abe2b9ca9c\"}\n",
    "    with open('/root/.kaggle/kaggle.json', 'w') as file:\n",
    "        json.dump(api_token, file)\n",
    "    !chmod 600 /root/.kaggle/kaggle.json\n",
    "    \n",
    "    ## Kaggle dataset metadata\n",
    "    meta = dict(\n",
    "        id=\"vovanquangnbk/fas-zalo-2022-frames\",\n",
    "        title=\"FAS Zalo 2022 Frames\",\n",
    "        isPrivate=True,\n",
    "        licenses=[dict(name=\"other\")]\n",
    "    )\n",
    "\n",
    "    with open('/kaggle/dataset/dataset-metadata.json', 'w') as f:\n",
    "        json.dump(meta, f)\n",
    "    \n",
    "    ## run main function\n",
    "    extract_frames(df, img_path, dataset_path)\n",
    "    \n",
    "    ## upload to Kaggle\n",
    "    # !kaggle datasets create -p \"/kaggle/dataset\" --dir-mode zip\n",
    "    !kaggle datasets version -p \"/kaggle/dataset\" -m \"Updated via notebook\" --dir-mode zip"
   ]
  }
 ],
 "metadata": {
  "kernelspec": {
   "display_name": "Python 3",
   "language": "python",
   "name": "python3"
  },
  "language_info": {
   "codemirror_mode": {
    "name": "ipython",
    "version": 3
   },
   "file_extension": ".py",
   "mimetype": "text/x-python",
   "name": "python",
   "nbconvert_exporter": "python",
   "pygments_lexer": "ipython3",
   "version": "3.10.12"
  },
  "papermill": {
   "default_parameters": {},
   "duration": 778.554901,
   "end_time": "2023-10-11T03:54:58.210006",
   "environment_variables": {},
   "exception": null,
   "input_path": "__notebook__.ipynb",
   "output_path": "__notebook__.ipynb",
   "parameters": {},
   "start_time": "2023-10-11T03:41:59.655105",
   "version": "2.4.0"
  }
 },
 "nbformat": 4,
 "nbformat_minor": 5
}
